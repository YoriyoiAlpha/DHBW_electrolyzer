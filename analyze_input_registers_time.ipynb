{
 "cells": [
  {
   "cell_type": "code",
   "execution_count": 2,
   "id": "747dd810-48a9-4821-b6bd-3a015f87ae3e",
   "metadata": {},
   "outputs": [],
   "source": [
    "import pandas as pd\n",
    "import json"
   ]
  },
  {
   "cell_type": "code",
   "execution_count": 8,
   "id": "90ec23b6-2ba3-4e74-927c-8a4bf4d2d66e",
   "metadata": {},
   "outputs": [],
   "source": [
    "df = pd.read_json(\"registers_time.json\", typ='series')"
   ]
  },
  {
   "cell_type": "code",
   "execution_count": 10,
   "id": "c123ae1b-d0b6-46cb-a26a-183e4c931f0d",
   "metadata": {},
   "outputs": [
    {
     "data": {
      "text/plain": [
       "25.11203145980835"
      ]
     },
     "execution_count": 10,
     "metadata": {},
     "output_type": "execute_result"
    }
   ],
   "source": [
    "max(df)"
   ]
  },
  {
   "cell_type": "code",
   "execution_count": null,
   "id": "1ba0d97e-9eac-4a2e-a461-60850a86418b",
   "metadata": {},
   "outputs": [],
   "source": []
  }
 ],
 "metadata": {
  "kernelspec": {
   "display_name": "Python 3 (ipykernel)",
   "language": "python",
   "name": "python3"
  },
  "language_info": {
   "codemirror_mode": {
    "name": "ipython",
    "version": 3
   },
   "file_extension": ".py",
   "mimetype": "text/x-python",
   "name": "python",
   "nbconvert_exporter": "python",
   "pygments_lexer": "ipython3",
   "version": "3.12.3"
  }
 },
 "nbformat": 4,
 "nbformat_minor": 5
}
